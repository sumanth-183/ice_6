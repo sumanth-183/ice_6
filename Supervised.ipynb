{
  "nbformat": 4,
  "nbformat_minor": 0,
  "metadata": {
    "colab": {
      "provenance": [],
      "collapsed_sections": []
    },
    "kernelspec": {
      "name": "python3",
      "display_name": "Python 3"
    },
    "language_info": {
      "name": "python"
    }
  },
  "cells": [
    {
      "cell_type": "code",
      "execution_count": 2,
      "metadata": {
        "id": "AxQMA_qCjo8G",
        "colab": {
          "base_uri": "https://localhost:8080/"
        },
        "outputId": "82fd8191-c749-4487-e447-855fb6f8c8c5"
      },
      "outputs": [
        {
          "output_type": "stream",
          "name": "stdout",
          "text": [
            "Drive already mounted at /content/drive; to attempt to forcibly remount, call drive.mount(\"/content/drive\", force_remount=True).\n"
          ]
        }
      ],
      "source": [
        "from google.colab import drive\n",
        "drive.mount('/content/drive')"
      ]
    },
    {
      "cell_type": "code",
      "source": [
        "!pip install Adam\n",
        "\n"
      ],
      "metadata": {
        "colab": {
          "base_uri": "https://localhost:8080/"
        },
        "id": "jNvRd7HqoSja",
        "outputId": "db63f78c-7175-47a3-9e3c-941f805cd213"
      },
      "execution_count": 3,
      "outputs": [
        {
          "output_type": "stream",
          "name": "stdout",
          "text": [
            "Looking in indexes: https://pypi.org/simple, https://us-python.pkg.dev/colab-wheels/public/simple/\n",
            "Requirement already satisfied: Adam in /usr/local/lib/python3.7/dist-packages (0.0.0.dev0)\n"
          ]
        }
      ]
    },
    {
      "cell_type": "code",
      "source": [
        "import matplotlib.pyplot as plt\n",
        "import seaborn as sns\n",
        "\n",
        "import keras\n",
        "from keras.models import Sequential\n",
        "from keras.layers import Dense, Conv2D , MaxPool2D , Flatten , Dropout \n",
        "from keras.preprocessing.image import ImageDataGenerator\n",
        "from tensorflow.keras.optimizers import Adam\n",
        "\n",
        "from sklearn.metrics import classification_report,confusion_matrix\n",
        "\n",
        "import tensorflow as tf\n",
        "\n",
        "import cv2\n",
        "import os\n",
        "\n",
        "import numpy as np\n",
        "\n"
      ],
      "metadata": {
        "id": "r0vfuWe1j81C"
      },
      "execution_count": 4,
      "outputs": []
    },
    {
      "cell_type": "code",
      "source": [
        "labels = ['rugby', 'soccer']\n",
        "img_size = 224\n",
        "#data_dir=\"/content/drive/MyDrive/data_dir\"\n",
        "def get_data(data_dir):\n",
        "    data = [] \n",
        "    for label in labels: \n",
        "        path = os.path.join(data_dir, label)\n",
        "        class_num = labels.index(label)\n",
        "        for img in os.listdir(path):\n",
        "            try:\n",
        "                img_arr = cv2.imread(os.path.join(path, img))[...,::-1] #convert BGR to RGB format\n",
        "                resized_arr = cv2.resize(img_arr, (img_size, img_size)) # Reshaping images to preferred size\n",
        "                data.append([resized_arr, class_num])\n",
        "            except Exception as e:\n",
        "                print(e)\n",
        "    return np.array(data)"
      ],
      "metadata": {
        "id": "F_oTYym_j-7_"
      },
      "execution_count": 5,
      "outputs": []
    },
    {
      "cell_type": "code",
      "source": [
        "#Now we can easily fetch our train and validation data.\n",
        "train = get_data('/content/drive/MyDrive/Colab Notebooks/input/train')\n",
        "val = get_data('/content/drive/MyDrive/Colab Notebooks/input/test')\n",
        " "
      ],
      "metadata": {
        "id": "MDpavmDykKhB",
        "colab": {
          "base_uri": "https://localhost:8080/"
        },
        "outputId": "ea40c829-90a9-475e-9465-462e4b0dcd73"
      },
      "execution_count": 6,
      "outputs": [
        {
          "output_type": "stream",
          "name": "stderr",
          "text": [
            "/usr/local/lib/python3.7/dist-packages/ipykernel_launcher.py:16: VisibleDeprecationWarning: Creating an ndarray from ragged nested sequences (which is a list-or-tuple of lists-or-tuples-or ndarrays with different lengths or shapes) is deprecated. If you meant to do this, you must specify 'dtype=object' when creating the ndarray.\n",
            "  app.launch_new_instance()\n"
          ]
        }
      ]
    },
    {
      "cell_type": "code",
      "source": [
        "x_train = []\n",
        "y_train = []\n",
        "x_val = []\n",
        "y_val = []\n",
        "\n",
        "for feature, label in train:\n",
        "  x_train.append(feature)\n",
        "  y_train.append(label)\n",
        "\n",
        "for feature, label in val:\n",
        "  x_val.append(feature)\n",
        "  y_val.append(label)\n",
        "\n",
        "# Normalize the data\n",
        "x_train = np.array(x_train) / 255\n",
        "x_val = np.array(x_val) / 255\n",
        "\n",
        "x_train.reshape(-1, img_size, img_size, 1)\n",
        "y_train = np.array(y_train)\n",
        "\n",
        "x_val.reshape(-1, img_size, img_size, 1)\n",
        "y_val = np.array(y_val)\n"
      ],
      "metadata": {
        "id": "54LAQk64kLQc"
      },
      "execution_count": 7,
      "outputs": []
    },
    {
      "cell_type": "code",
      "source": [
        "datagen = ImageDataGenerator(\n",
        "        featurewise_center=False,  # set input mean to 0 over the dataset\n",
        "        samplewise_center=False,  # set each sample mean to 0\n",
        "        featurewise_std_normalization=False,  # divide inputs by std of the dataset\n",
        "        samplewise_std_normalization=False,  # divide each input by its std\n",
        "        zca_whitening=False,  # apply ZCA whitening\n",
        "        rotation_range = 30,  # randomly rotate images in the range (degrees, 0 to 180)\n",
        "        zoom_range = 0.2, # Randomly zoom image \n",
        "        width_shift_range=0.1,  # randomly shift images horizontally (fraction of total width)\n",
        "        height_shift_range=0.1,  # randomly shift images vertically (fraction of total height)\n",
        "        horizontal_flip = True,  # randomly flip images\n",
        "        vertical_flip=False)  # randomly flip images\n",
        "\n",
        "\n",
        "datagen.fit(x_train)"
      ],
      "metadata": {
        "id": "7G6AYuLzkUPG"
      },
      "execution_count": 8,
      "outputs": []
    },
    {
      "cell_type": "code",
      "source": [
        "model = Sequential()\n",
        "model.add(Conv2D(32,3,padding=\"same\", activation=\"relu\", input_shape=(224,224,3)))\n",
        "model.add(MaxPool2D())\n",
        "\n",
        "model.add(Conv2D(32, 3, padding=\"same\", activation=\"relu\"))\n",
        "model.add(MaxPool2D())\n",
        "\n",
        "model.add(Conv2D(64, 3, padding=\"same\", activation=\"relu\"))\n",
        "model.add(MaxPool2D())\n",
        "model.add(Dropout(0.4))\n",
        "\n",
        "model.add(Flatten())\n",
        "model.add(Dense(128,activation=\"relu\"))\n",
        "model.add(Dense(2, activation=\"softmax\"))\n",
        "\n",
        "model.summary()"
      ],
      "metadata": {
        "id": "8Cyg1LxQkYqZ",
        "colab": {
          "base_uri": "https://localhost:8080/"
        },
        "outputId": "4481498e-7d87-4960-80f0-b72158ec23bf"
      },
      "execution_count": 9,
      "outputs": [
        {
          "output_type": "stream",
          "name": "stdout",
          "text": [
            "Model: \"sequential\"\n",
            "_________________________________________________________________\n",
            " Layer (type)                Output Shape              Param #   \n",
            "=================================================================\n",
            " conv2d (Conv2D)             (None, 224, 224, 32)      896       \n",
            "                                                                 \n",
            " max_pooling2d (MaxPooling2D  (None, 112, 112, 32)     0         \n",
            " )                                                               \n",
            "                                                                 \n",
            " conv2d_1 (Conv2D)           (None, 112, 112, 32)      9248      \n",
            "                                                                 \n",
            " max_pooling2d_1 (MaxPooling  (None, 56, 56, 32)       0         \n",
            " 2D)                                                             \n",
            "                                                                 \n",
            " conv2d_2 (Conv2D)           (None, 56, 56, 64)        18496     \n",
            "                                                                 \n",
            " max_pooling2d_2 (MaxPooling  (None, 28, 28, 64)       0         \n",
            " 2D)                                                             \n",
            "                                                                 \n",
            " dropout (Dropout)           (None, 28, 28, 64)        0         \n",
            "                                                                 \n",
            " flatten (Flatten)           (None, 50176)             0         \n",
            "                                                                 \n",
            " dense (Dense)               (None, 128)               6422656   \n",
            "                                                                 \n",
            " dense_1 (Dense)             (None, 2)                 258       \n",
            "                                                                 \n",
            "=================================================================\n",
            "Total params: 6,451,554\n",
            "Trainable params: 6,451,554\n",
            "Non-trainable params: 0\n",
            "_________________________________________________________________\n"
          ]
        }
      ]
    },
    {
      "cell_type": "code",
      "source": [
        "opt = Adam(learning_rate=0.0001)\n",
        "model.compile(optimizer = opt , loss = tf.keras.losses.SparseCategoricalCrossentropy(from_logits=True) , metrics = ['accuracy'])\n"
      ],
      "metadata": {
        "id": "8NIBzYwikakj"
      },
      "execution_count": 10,
      "outputs": []
    },
    {
      "cell_type": "code",
      "source": [
        "history = model.fit(x_train,y_train,epochs = 10 , validation_data = (x_val, y_val))\n"
      ],
      "metadata": {
        "id": "SRk8AXkQkeef",
        "colab": {
          "base_uri": "https://localhost:8080/"
        },
        "outputId": "2b9dff1c-55be-411e-e594-b8ccac43624a"
      },
      "execution_count": 12,
      "outputs": [
        {
          "output_type": "stream",
          "name": "stdout",
          "text": [
            "Epoch 1/10\n",
            "77/77 [==============================] - 160s 2s/step - loss: 0.6423 - accuracy: 0.6311 - val_loss: 0.5582 - val_accuracy: 0.7639\n",
            "Epoch 2/10\n",
            "77/77 [==============================] - 159s 2s/step - loss: 0.5560 - accuracy: 0.7279 - val_loss: 0.4796 - val_accuracy: 0.8164\n",
            "Epoch 3/10\n",
            "77/77 [==============================] - 166s 2s/step - loss: 0.5239 - accuracy: 0.7422 - val_loss: 0.4676 - val_accuracy: 0.8148\n",
            "Epoch 4/10\n",
            "77/77 [==============================] - 164s 2s/step - loss: 0.4630 - accuracy: 0.7904 - val_loss: 0.4321 - val_accuracy: 0.8262\n",
            "Epoch 5/10\n",
            "77/77 [==============================] - 164s 2s/step - loss: 0.4392 - accuracy: 0.7974 - val_loss: 0.4798 - val_accuracy: 0.7902\n",
            "Epoch 6/10\n",
            "77/77 [==============================] - 170s 2s/step - loss: 0.4055 - accuracy: 0.8264 - val_loss: 0.4498 - val_accuracy: 0.8082\n",
            "Epoch 7/10\n",
            "77/77 [==============================] - 166s 2s/step - loss: 0.3745 - accuracy: 0.8444 - val_loss: 0.4128 - val_accuracy: 0.8361\n",
            "Epoch 8/10\n",
            "77/77 [==============================] - 164s 2s/step - loss: 0.3632 - accuracy: 0.8464 - val_loss: 0.4096 - val_accuracy: 0.8443\n",
            "Epoch 9/10\n",
            "77/77 [==============================] - 164s 2s/step - loss: 0.3066 - accuracy: 0.8889 - val_loss: 0.5169 - val_accuracy: 0.7656\n",
            "Epoch 10/10\n",
            "77/77 [==============================] - 164s 2s/step - loss: 0.2949 - accuracy: 0.8832 - val_loss: 0.4151 - val_accuracy: 0.8197\n"
          ]
        }
      ]
    },
    {
      "cell_type": "code",
      "source": [
        "acc = history.history['accuracy']\n",
        "val_acc = history.history['val_accuracy']\n",
        "loss = history.history['loss']\n",
        "val_loss = history.history['val_loss']\n",
        "\n",
        "epochs_range = range(10)\n",
        "\n",
        "plt.figure(figsize=(15, 15))\n",
        "plt.subplot(2, 2, 1)\n",
        "plt.plot(epochs_range, acc, label='Training Accuracy')\n",
        "plt.plot(epochs_range, val_acc, label='Validation Accuracy')\n",
        "plt.legend(loc='lower right')\n",
        "plt.title('Training and Validation Accuracy')\n",
        "\n",
        "plt.subplot(2, 2, 2)\n",
        "plt.plot(epochs_range, loss, label='Training Loss')\n",
        "plt.plot(epochs_range, val_loss, label='Validation Loss')\n",
        "plt.legend(loc='upper right')\n",
        "plt.title('Training and Validation Loss')\n",
        "plt.show()"
      ],
      "metadata": {
        "id": "04-LTzNWkjHQ",
        "colab": {
          "base_uri": "https://localhost:8080/",
          "height": 435
        },
        "outputId": "07d00f4b-85a8-440b-baaa-ec182a316983"
      },
      "execution_count": 14,
      "outputs": [
        {
          "output_type": "display_data",
          "data": {
            "text/plain": [
              "<Figure size 1080x1080 with 2 Axes>"
            ],
            "image/png": "[encoded data removed]"
          },
          "metadata": {
            "needs_background": "light"
          }
        }
      ]
    },
    {
      "cell_type": "code",
      "source": [
        "#predictions = model.predict(x_val)\n",
        "#print(predictions.shape)\n",
        "#print(predictions)\n",
        "#np.reshape(predictions,610)\n",
        "#predictions=np.delete(predictions,0,1)\n",
        "#print(predictions.shape)\n",
        "#predictions = predictions.reshape(1,-1)[0]\n",
        "#print(predictions.shape)\n",
        "#print(predictions)\n",
        "#print(y_val.shape)\n",
        "#print(y_val)\n",
        "\n",
        "#predictions = model.predict(x_val)\n",
        "\n",
        "#new_predictions = []\n",
        "#for i in range(610):\n",
        "#  if(predictions[i][0] > predictions[i][1]):\n",
        "#    new_predictions.append(0) \n",
        " # else:  \n",
        "  #  new_predictions.append(1)\n",
        "\n",
        "#predictions = np.array(new_predictions)\n",
        "\n",
        "#print(predictions.shape)\n",
        "#print(y_val.shape)\n",
        "predict_x=model.predict(x_val)\n",
        "classes_x=np.argmax(predict_x,axis=1)\n",
        "predictions=classes_x.reshape(1,-1)[0]\n",
        "print(classification_report(y_val,predictions, target_names = ['Rugby (Class 0)','Soccer (Class 1)']))\n",
        "\n"
      ],
      "metadata": {
        "id": "iUU4A4vSkjsW",
        "colab": {
          "base_uri": "https://localhost:8080/"
        },
        "outputId": "3d7dc4d3-8efc-4d03-d9a3-52fa97a74178"
      },
      "execution_count": 15,
      "outputs": [
        {
          "output_type": "stream",
          "name": "stdout",
          "text": [
            "                  precision    recall  f1-score   support\n",
            "\n",
            " Rugby (Class 0)       0.83      0.80      0.82       305\n",
            "Soccer (Class 1)       0.81      0.84      0.82       305\n",
            "\n",
            "        accuracy                           0.82       610\n",
            "       macro avg       0.82      0.82      0.82       610\n",
            "    weighted avg       0.82      0.82      0.82       610\n",
            "\n"
          ]
        }
      ]
    },
    {
      "cell_type": "markdown",
      "source": [
        "Task 1: Run the above code with given dataset.\n",
        "\n",
        "Task 2: Run the code with different dataset\n",
        "\n",
        "\n",
        "\n",
        "\n"
      ],
      "metadata": {
        "id": "oVqtwreQYd7E"
      }
    }
  ]
}